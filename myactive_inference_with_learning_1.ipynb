{
  "nbformat": 4,
  "nbformat_minor": 0,
  "metadata": {
    "colab": {
      "provenance": [],
      "authorship_tag": "ABX9TyMws88Kdg4cWjAkiS/HNpwn",
      "include_colab_link": true
    },
    "kernelspec": {
      "name": "python3",
      "display_name": "Python 3"
    },
    "language_info": {
      "name": "python"
    }
  },
  "cells": [
    {
      "cell_type": "markdown",
      "metadata": {
        "id": "view-in-github",
        "colab_type": "text"
      },
      "source": [
        "<a href=\"https://colab.research.google.com/github/vala1958/network/blob/main/myactive_inference_with_learning_1.ipynb\" target=\"_parent\"><img src=\"https://colab.research.google.com/assets/colab-badge.svg\" alt=\"Open In Colab\"/></a>"
      ]
    },
    {
      "cell_type": "code",
      "execution_count": 1,
      "metadata": {
        "colab": {
          "base_uri": "https://localhost:8080/"
        },
        "id": "qAm73rP7CNCG",
        "outputId": "06d87e99-1ffd-4a30-82e9-74ecd1648930"
      },
      "outputs": [
        {
          "output_type": "stream",
          "name": "stdout",
          "text": [
            "Looking in indexes: https://pypi.org/simple, https://us-python.pkg.dev/colab-wheels/public/simple/\n",
            "Collecting inferactively-pymdp\n",
            "  Downloading inferactively_pymdp-0.0.7.1-py3-none-any.whl (58 kB)\n",
            "\u001b[?25l     \u001b[90m━━━━━━━━━━━━━━━━━━━━━━━━━━━━━━━━━━━━━━━━\u001b[0m \u001b[32m0.0/58.9 KB\u001b[0m \u001b[31m?\u001b[0m eta \u001b[36m-:--:--\u001b[0m\r\u001b[2K     \u001b[90m━━━━━━━━━━━━━━━━━━━━━━━━━━━━━━━━━━━━━━━━\u001b[0m \u001b[32m58.9/58.9 KB\u001b[0m \u001b[31m4.8 MB/s\u001b[0m eta \u001b[36m0:00:00\u001b[0m\n",
            "\u001b[?25hRequirement already satisfied: toml>=0.10.2 in /usr/local/lib/python3.9/dist-packages (from inferactively-pymdp) (0.10.2)\n",
            "Collecting myst-nb>=0.13.1\n",
            "  Downloading myst_nb-0.17.1-py3-none-any.whl (78 kB)\n",
            "\u001b[2K     \u001b[90m━━━━━━━━━━━━━━━━━━━━━━━━━━━━━━━━━━━━━━━\u001b[0m \u001b[32m78.6/78.6 KB\u001b[0m \u001b[31m248.3 kB/s\u001b[0m eta \u001b[36m0:00:00\u001b[0m\n",
            "\u001b[?25hRequirement already satisfied: iniconfig>=1.1.1 in /usr/local/lib/python3.9/dist-packages (from inferactively-pymdp) (2.0.0)\n",
            "Requirement already satisfied: python-dateutil>=2.8.1 in /usr/local/lib/python3.9/dist-packages (from inferactively-pymdp) (2.8.2)\n",
            "Requirement already satisfied: typing-extensions>=3.7.4.3 in /usr/local/lib/python3.9/dist-packages (from inferactively-pymdp) (4.5.0)\n",
            "Requirement already satisfied: cycler>=0.10.0 in /usr/local/lib/python3.9/dist-packages (from inferactively-pymdp) (0.11.0)\n",
            "Requirement already satisfied: kiwisolver>=1.3.1 in /usr/local/lib/python3.9/dist-packages (from inferactively-pymdp) (1.4.4)\n",
            "Requirement already satisfied: numpy>=1.19.5 in /usr/local/lib/python3.9/dist-packages (from inferactively-pymdp) (1.22.4)\n",
            "Requirement already satisfied: pandas>=1.2.4 in /usr/local/lib/python3.9/dist-packages (from inferactively-pymdp) (1.4.4)\n",
            "Requirement already satisfied: Pillow>=8.2.0 in /usr/local/lib/python3.9/dist-packages (from inferactively-pymdp) (8.4.0)\n",
            "Requirement already satisfied: pytz>=2020.5 in /usr/local/lib/python3.9/dist-packages (from inferactively-pymdp) (2022.7.1)\n",
            "Requirement already satisfied: six>=1.15.0 in /usr/local/lib/python3.9/dist-packages (from inferactively-pymdp) (1.16.0)\n",
            "Requirement already satisfied: openpyxl>=3.0.7 in /usr/local/lib/python3.9/dist-packages (from inferactively-pymdp) (3.0.10)\n",
            "Requirement already satisfied: matplotlib>=3.1.3 in /usr/local/lib/python3.9/dist-packages (from inferactively-pymdp) (3.7.1)\n",
            "Requirement already satisfied: attrs>=20.3.0 in /usr/local/lib/python3.9/dist-packages (from inferactively-pymdp) (22.2.0)\n",
            "Collecting xlsxwriter>=1.4.3\n",
            "  Downloading XlsxWriter-3.0.9-py3-none-any.whl (152 kB)\n",
            "\u001b[2K     \u001b[90m━━━━━━━━━━━━━━━━━━━━━━━━━━━━━━━━━━━━━━\u001b[0m \u001b[32m152.8/152.8 KB\u001b[0m \u001b[31m11.0 MB/s\u001b[0m eta \u001b[36m0:00:00\u001b[0m\n",
            "\u001b[?25hRequirement already satisfied: pluggy>=0.13.1 in /usr/local/lib/python3.9/dist-packages (from inferactively-pymdp) (1.0.0)\n",
            "Requirement already satisfied: pyparsing>=2.4.7 in /usr/local/lib/python3.9/dist-packages (from inferactively-pymdp) (3.0.9)\n",
            "Collecting py>=1.10.0\n",
            "  Downloading py-1.11.0-py2.py3-none-any.whl (98 kB)\n",
            "\u001b[2K     \u001b[90m━━━━━━━━━━━━━━━━━━━━━━━━━━━━━━━━━━━━━━━━\u001b[0m \u001b[32m98.7/98.7 KB\u001b[0m \u001b[31m4.3 MB/s\u001b[0m eta \u001b[36m0:00:00\u001b[0m\n",
            "\u001b[?25hCollecting sphinx-rtd-theme>=0.4\n",
            "  Downloading sphinx_rtd_theme-1.2.0-py2.py3-none-any.whl (2.8 MB)\n",
            "\u001b[2K     \u001b[90m━━━━━━━━━━━━━━━━━━━━━━━━━━━━━━━━━━━━━━━━\u001b[0m \u001b[32m2.8/2.8 MB\u001b[0m \u001b[31m70.6 MB/s\u001b[0m eta \u001b[36m0:00:00\u001b[0m\n",
            "\u001b[?25hRequirement already satisfied: seaborn>=0.11.1 in /usr/local/lib/python3.9/dist-packages (from inferactively-pymdp) (0.12.2)\n",
            "Requirement already satisfied: autograd>=1.3 in /usr/local/lib/python3.9/dist-packages (from inferactively-pymdp) (1.5)\n",
            "Collecting nose>=1.3.7\n",
            "  Downloading nose-1.3.7-py3-none-any.whl (154 kB)\n",
            "\u001b[2K     \u001b[90m━━━━━━━━━━━━━━━━━━━━━━━━━━━━━━━━━━━━━━\u001b[0m \u001b[32m154.7/154.7 KB\u001b[0m \u001b[31m12.5 MB/s\u001b[0m eta \u001b[36m0:00:00\u001b[0m\n",
            "\u001b[?25hRequirement already satisfied: packaging>=20.8 in /usr/local/lib/python3.9/dist-packages (from inferactively-pymdp) (23.0)\n",
            "Requirement already satisfied: pytest>=6.2.1 in /usr/local/lib/python3.9/dist-packages (from inferactively-pymdp) (7.2.2)\n",
            "Requirement already satisfied: scipy>=1.6.0 in /usr/local/lib/python3.9/dist-packages (from inferactively-pymdp) (1.10.1)\n",
            "Requirement already satisfied: future>=0.15.2 in /usr/local/lib/python3.9/dist-packages (from autograd>=1.3->inferactively-pymdp) (0.18.3)\n",
            "Requirement already satisfied: fonttools>=4.22.0 in /usr/local/lib/python3.9/dist-packages (from matplotlib>=3.1.3->inferactively-pymdp) (4.39.2)\n",
            "Requirement already satisfied: contourpy>=1.0.1 in /usr/local/lib/python3.9/dist-packages (from matplotlib>=3.1.3->inferactively-pymdp) (1.0.7)\n",
            "Requirement already satisfied: importlib-resources>=3.2.0 in /usr/local/lib/python3.9/dist-packages (from matplotlib>=3.1.3->inferactively-pymdp) (5.12.0)\n",
            "Requirement already satisfied: nbformat~=5.0 in /usr/local/lib/python3.9/dist-packages (from myst-nb>=0.13.1->inferactively-pymdp) (5.8.0)\n",
            "Requirement already satisfied: ipython in /usr/local/lib/python3.9/dist-packages (from myst-nb>=0.13.1->inferactively-pymdp) (7.9.0)\n",
            "Requirement already satisfied: importlib_metadata in /usr/local/lib/python3.9/dist-packages (from myst-nb>=0.13.1->inferactively-pymdp) (6.1.0)\n",
            "Collecting sphinx<6,>=4\n",
            "  Downloading sphinx-5.3.0-py3-none-any.whl (3.2 MB)\n",
            "\u001b[2K     \u001b[90m━━━━━━━━━━━━━━━━━━━━━━━━━━━━━━━━━━━━━━━━\u001b[0m \u001b[32m3.2/3.2 MB\u001b[0m \u001b[31m80.9 MB/s\u001b[0m eta \u001b[36m0:00:00\u001b[0m\n",
            "\u001b[?25hCollecting myst-parser~=0.18.0\n",
            "  Downloading myst_parser-0.18.1-py3-none-any.whl (58 kB)\n",
            "\u001b[2K     \u001b[90m━━━━━━━━━━━━━━━━━━━━━━━━━━━━━━━━━━━━━━━━\u001b[0m \u001b[32m58.2/58.2 KB\u001b[0m \u001b[31m4.6 MB/s\u001b[0m eta \u001b[36m0:00:00\u001b[0m\n",
            "\u001b[?25hRequirement already satisfied: pyyaml in /usr/local/lib/python3.9/dist-packages (from myst-nb>=0.13.1->inferactively-pymdp) (6.0)\n",
            "Requirement already satisfied: ipykernel in /usr/local/lib/python3.9/dist-packages (from myst-nb>=0.13.1->inferactively-pymdp) (5.3.4)\n",
            "Collecting jupyter-cache~=0.5.0\n",
            "  Downloading jupyter_cache-0.5.0-py3-none-any.whl (34 kB)\n",
            "Requirement already satisfied: nbclient in /usr/local/lib/python3.9/dist-packages (from myst-nb>=0.13.1->inferactively-pymdp) (0.7.2)\n",
            "Requirement already satisfied: et-xmlfile in /usr/local/lib/python3.9/dist-packages (from openpyxl>=3.0.7->inferactively-pymdp) (1.1.0)\n",
            "Requirement already satisfied: tomli>=1.0.0 in /usr/local/lib/python3.9/dist-packages (from pytest>=6.2.1->inferactively-pymdp) (2.0.1)\n",
            "Requirement already satisfied: exceptiongroup>=1.0.0rc8 in /usr/local/lib/python3.9/dist-packages (from pytest>=6.2.1->inferactively-pymdp) (1.1.1)\n",
            "Collecting sphinxcontrib-jquery!=3.0.0,>=2.0.0\n",
            "  Downloading sphinxcontrib_jquery-4.1-py2.py3-none-any.whl (121 kB)\n",
            "\u001b[2K     \u001b[90m━━━━━━━━━━━━━━━━━━━━━━━━━━━━━━━━━━━━━━━\u001b[0m \u001b[32m121.1/121.1 KB\u001b[0m \u001b[31m9.2 MB/s\u001b[0m eta \u001b[36m0:00:00\u001b[0m\n",
            "\u001b[?25hRequirement already satisfied: docutils<0.19 in /usr/local/lib/python3.9/dist-packages (from sphinx-rtd-theme>=0.4->inferactively-pymdp) (0.16)\n",
            "Requirement already satisfied: zipp>=3.1.0 in /usr/local/lib/python3.9/dist-packages (from importlib-resources>=3.2.0->matplotlib>=3.1.3->inferactively-pymdp) (3.15.0)\n",
            "Collecting nbclient\n",
            "  Downloading nbclient-0.5.13-py3-none-any.whl (70 kB)\n",
            "\u001b[2K     \u001b[90m━━━━━━━━━━━━━━━━━━━━━━━━━━━━━━━━━━━━━━━━\u001b[0m \u001b[32m70.6/70.6 KB\u001b[0m \u001b[31m7.8 MB/s\u001b[0m eta \u001b[36m0:00:00\u001b[0m\n",
            "\u001b[?25hRequirement already satisfied: tabulate in /usr/local/lib/python3.9/dist-packages (from jupyter-cache~=0.5.0->myst-nb>=0.13.1->inferactively-pymdp) (0.8.10)\n",
            "Requirement already satisfied: sqlalchemy<1.5,>=1.3.12 in /usr/local/lib/python3.9/dist-packages (from jupyter-cache~=0.5.0->myst-nb>=0.13.1->inferactively-pymdp) (1.4.47)\n",
            "Requirement already satisfied: click in /usr/local/lib/python3.9/dist-packages (from jupyter-cache~=0.5.0->myst-nb>=0.13.1->inferactively-pymdp) (8.1.3)\n",
            "Requirement already satisfied: markdown-it-py<3.0.0,>=1.0.0 in /usr/local/lib/python3.9/dist-packages (from myst-parser~=0.18.0->myst-nb>=0.13.1->inferactively-pymdp) (2.2.0)\n",
            "Collecting mdit-py-plugins~=0.3.1\n",
            "  Downloading mdit_py_plugins-0.3.5-py3-none-any.whl (52 kB)\n",
            "\u001b[2K     \u001b[90m━━━━━━━━━━━━━━━━━━━━━━━━━━━━━━━━━━━━━━━━\u001b[0m \u001b[32m52.1/52.1 KB\u001b[0m \u001b[31m5.2 MB/s\u001b[0m eta \u001b[36m0:00:00\u001b[0m\n",
            "\u001b[?25hRequirement already satisfied: jinja2 in /usr/local/lib/python3.9/dist-packages (from myst-parser~=0.18.0->myst-nb>=0.13.1->inferactively-pymdp) (3.1.2)\n",
            "Requirement already satisfied: jupyter-client>=6.1.5 in /usr/local/lib/python3.9/dist-packages (from nbclient->myst-nb>=0.13.1->inferactively-pymdp) (6.1.12)\n",
            "Requirement already satisfied: nest-asyncio in /usr/local/lib/python3.9/dist-packages (from nbclient->myst-nb>=0.13.1->inferactively-pymdp) (1.5.6)\n",
            "Requirement already satisfied: traitlets>=5.0.0 in /usr/local/lib/python3.9/dist-packages (from nbclient->myst-nb>=0.13.1->inferactively-pymdp) (5.7.1)\n",
            "Requirement already satisfied: fastjsonschema in /usr/local/lib/python3.9/dist-packages (from nbformat~=5.0->myst-nb>=0.13.1->inferactively-pymdp) (2.16.3)\n",
            "Requirement already satisfied: jupyter-core in /usr/local/lib/python3.9/dist-packages (from nbformat~=5.0->myst-nb>=0.13.1->inferactively-pymdp) (5.3.0)\n",
            "Requirement already satisfied: jsonschema>=2.6 in /usr/local/lib/python3.9/dist-packages (from nbformat~=5.0->myst-nb>=0.13.1->inferactively-pymdp) (4.3.3)\n",
            "Requirement already satisfied: babel>=2.9 in /usr/local/lib/python3.9/dist-packages (from sphinx<6,>=4->myst-nb>=0.13.1->inferactively-pymdp) (2.12.1)\n",
            "Requirement already satisfied: requests>=2.5.0 in /usr/local/lib/python3.9/dist-packages (from sphinx<6,>=4->myst-nb>=0.13.1->inferactively-pymdp) (2.27.1)\n",
            "Requirement already satisfied: sphinxcontrib-htmlhelp>=2.0.0 in /usr/local/lib/python3.9/dist-packages (from sphinx<6,>=4->myst-nb>=0.13.1->inferactively-pymdp) (2.0.1)\n",
            "Requirement already satisfied: sphinxcontrib-applehelp in /usr/local/lib/python3.9/dist-packages (from sphinx<6,>=4->myst-nb>=0.13.1->inferactively-pymdp) (1.0.4)\n",
            "Requirement already satisfied: sphinxcontrib-qthelp in /usr/local/lib/python3.9/dist-packages (from sphinx<6,>=4->myst-nb>=0.13.1->inferactively-pymdp) (1.0.3)\n",
            "Requirement already satisfied: Pygments>=2.12 in /usr/local/lib/python3.9/dist-packages (from sphinx<6,>=4->myst-nb>=0.13.1->inferactively-pymdp) (2.14.0)\n",
            "Requirement already satisfied: snowballstemmer>=2.0 in /usr/local/lib/python3.9/dist-packages (from sphinx<6,>=4->myst-nb>=0.13.1->inferactively-pymdp) (2.2.0)\n",
            "Requirement already satisfied: imagesize>=1.3 in /usr/local/lib/python3.9/dist-packages (from sphinx<6,>=4->myst-nb>=0.13.1->inferactively-pymdp) (1.4.1)\n",
            "Requirement already satisfied: alabaster<0.8,>=0.7 in /usr/local/lib/python3.9/dist-packages (from sphinx<6,>=4->myst-nb>=0.13.1->inferactively-pymdp) (0.7.13)\n",
            "Requirement already satisfied: sphinxcontrib-jsmath in /usr/local/lib/python3.9/dist-packages (from sphinx<6,>=4->myst-nb>=0.13.1->inferactively-pymdp) (1.0.1)\n",
            "Requirement already satisfied: sphinxcontrib-devhelp in /usr/local/lib/python3.9/dist-packages (from sphinx<6,>=4->myst-nb>=0.13.1->inferactively-pymdp) (1.0.2)\n",
            "Requirement already satisfied: sphinxcontrib-serializinghtml>=1.1.5 in /usr/local/lib/python3.9/dist-packages (from sphinx<6,>=4->myst-nb>=0.13.1->inferactively-pymdp) (1.1.5)\n",
            "Requirement already satisfied: tornado>=4.2 in /usr/local/lib/python3.9/dist-packages (from ipykernel->myst-nb>=0.13.1->inferactively-pymdp) (6.2)\n",
            "Requirement already satisfied: backcall in /usr/local/lib/python3.9/dist-packages (from ipython->myst-nb>=0.13.1->inferactively-pymdp) (0.2.0)\n",
            "Collecting jedi>=0.10\n",
            "  Downloading jedi-0.18.2-py2.py3-none-any.whl (1.6 MB)\n",
            "\u001b[2K     \u001b[90m━━━━━━━━━━━━━━━━━━━━━━━━━━━━━━━━━━━━━━━━\u001b[0m \u001b[32m1.6/1.6 MB\u001b[0m \u001b[31m71.1 MB/s\u001b[0m eta \u001b[36m0:00:00\u001b[0m\n",
            "\u001b[?25hRequirement already satisfied: prompt-toolkit<2.1.0,>=2.0.0 in /usr/local/lib/python3.9/dist-packages (from ipython->myst-nb>=0.13.1->inferactively-pymdp) (2.0.10)\n",
            "Requirement already satisfied: setuptools>=18.5 in /usr/local/lib/python3.9/dist-packages (from ipython->myst-nb>=0.13.1->inferactively-pymdp) (67.6.0)\n",
            "Requirement already satisfied: pickleshare in /usr/local/lib/python3.9/dist-packages (from ipython->myst-nb>=0.13.1->inferactively-pymdp) (0.7.5)\n",
            "Requirement already satisfied: decorator in /usr/local/lib/python3.9/dist-packages (from ipython->myst-nb>=0.13.1->inferactively-pymdp) (4.4.2)\n",
            "Requirement already satisfied: pexpect in /usr/local/lib/python3.9/dist-packages (from ipython->myst-nb>=0.13.1->inferactively-pymdp) (4.8.0)\n",
            "Requirement already satisfied: parso<0.9.0,>=0.8.0 in /usr/local/lib/python3.9/dist-packages (from jedi>=0.10->ipython->myst-nb>=0.13.1->inferactively-pymdp) (0.8.3)\n",
            "Requirement already satisfied: MarkupSafe>=2.0 in /usr/local/lib/python3.9/dist-packages (from jinja2->myst-parser~=0.18.0->myst-nb>=0.13.1->inferactively-pymdp) (2.1.2)\n",
            "Requirement already satisfied: pyrsistent!=0.17.0,!=0.17.1,!=0.17.2,>=0.14.0 in /usr/local/lib/python3.9/dist-packages (from jsonschema>=2.6->nbformat~=5.0->myst-nb>=0.13.1->inferactively-pymdp) (0.19.3)\n",
            "Requirement already satisfied: pyzmq>=13 in /usr/local/lib/python3.9/dist-packages (from jupyter-client>=6.1.5->nbclient->myst-nb>=0.13.1->inferactively-pymdp) (23.2.1)\n",
            "Requirement already satisfied: platformdirs>=2.5 in /usr/local/lib/python3.9/dist-packages (from jupyter-core->nbformat~=5.0->myst-nb>=0.13.1->inferactively-pymdp) (3.1.1)\n",
            "Requirement already satisfied: mdurl~=0.1 in /usr/local/lib/python3.9/dist-packages (from markdown-it-py<3.0.0,>=1.0.0->myst-parser~=0.18.0->myst-nb>=0.13.1->inferactively-pymdp) (0.1.2)\n",
            "Requirement already satisfied: wcwidth in /usr/local/lib/python3.9/dist-packages (from prompt-toolkit<2.1.0,>=2.0.0->ipython->myst-nb>=0.13.1->inferactively-pymdp) (0.2.6)\n",
            "Requirement already satisfied: idna<4,>=2.5 in /usr/local/lib/python3.9/dist-packages (from requests>=2.5.0->sphinx<6,>=4->myst-nb>=0.13.1->inferactively-pymdp) (3.4)\n",
            "Requirement already satisfied: certifi>=2017.4.17 in /usr/local/lib/python3.9/dist-packages (from requests>=2.5.0->sphinx<6,>=4->myst-nb>=0.13.1->inferactively-pymdp) (2022.12.7)\n",
            "Requirement already satisfied: urllib3<1.27,>=1.21.1 in /usr/local/lib/python3.9/dist-packages (from requests>=2.5.0->sphinx<6,>=4->myst-nb>=0.13.1->inferactively-pymdp) (1.26.15)\n",
            "Requirement already satisfied: charset-normalizer~=2.0.0 in /usr/local/lib/python3.9/dist-packages (from requests>=2.5.0->sphinx<6,>=4->myst-nb>=0.13.1->inferactively-pymdp) (2.0.12)\n",
            "Requirement already satisfied: greenlet!=0.4.17 in /usr/local/lib/python3.9/dist-packages (from sqlalchemy<1.5,>=1.3.12->jupyter-cache~=0.5.0->myst-nb>=0.13.1->inferactively-pymdp) (2.0.2)\n",
            "Requirement already satisfied: ptyprocess>=0.5 in /usr/local/lib/python3.9/dist-packages (from pexpect->ipython->myst-nb>=0.13.1->inferactively-pymdp) (0.7.0)\n",
            "Installing collected packages: nose, xlsxwriter, py, jedi, sphinx, mdit-py-plugins, sphinxcontrib-jquery, nbclient, myst-parser, sphinx-rtd-theme, jupyter-cache, myst-nb, inferactively-pymdp\n",
            "  Attempting uninstall: sphinx\n",
            "    Found existing installation: Sphinx 3.5.4\n",
            "    Uninstalling Sphinx-3.5.4:\n",
            "      Successfully uninstalled Sphinx-3.5.4\n",
            "  Attempting uninstall: nbclient\n",
            "    Found existing installation: nbclient 0.7.2\n",
            "    Uninstalling nbclient-0.7.2:\n",
            "      Successfully uninstalled nbclient-0.7.2\n",
            "Successfully installed inferactively-pymdp-0.0.7.1 jedi-0.18.2 jupyter-cache-0.5.0 mdit-py-plugins-0.3.5 myst-nb-0.17.1 myst-parser-0.18.1 nbclient-0.5.13 nose-1.3.7 py-1.11.0 sphinx-5.3.0 sphinx-rtd-theme-1.2.0 sphinxcontrib-jquery-4.1 xlsxwriter-3.0.9\n"
          ]
        }
      ],
      "source": [
        " pip install inferactively-pymdp"
      ]
    },
    {
      "cell_type": "code",
      "source": [
        "import numpy as np\n",
        "import matplotlib.pyplot as plt\n",
        "import seaborn as sns\n",
        "\n",
        "from pymdp import utils\n",
        "\n",
        "from pymdp.maths import softmax\n",
        "from pymdp.maths import spm_log_single as log_stable\n",
        "\n",
        "import itertools\n",
        "\n",
        "from pymdp.control import construct_policies"
      ],
      "metadata": {
        "id": "YRxMl_1qCazp"
      },
      "execution_count": 2,
      "outputs": []
    },
    {
      "cell_type": "code",
      "source": [
        "class GridWorldEnv():\n",
        "    \n",
        "    def __init__(self,starting_state = (0,0)):\n",
        "\n",
        "        self.init_state = starting_state\n",
        "        self.current_state = self.init_state\n",
        "        print(f'Starting state is {starting_state}')\n",
        "    \n",
        "    def step(self,action_label):\n",
        "\n",
        "        (Y, X) = self.current_state\n",
        "\n",
        "        if action_label == \"UP\": \n",
        "          \n",
        "          Y_new = Y - 1 if Y > 0 else Y\n",
        "          X_new = X\n",
        "\n",
        "        elif action_label == \"DOWN\": \n",
        "\n",
        "          Y_new = Y + 1 if Y < 2 else Y\n",
        "          X_new = X\n",
        "\n",
        "        elif action_label == \"LEFT\": \n",
        "          Y_new = Y\n",
        "          X_new = X - 1 if X > 0 else X\n",
        "\n",
        "        elif action_label == \"RIGHT\": \n",
        "          Y_new = Y\n",
        "          X_new = X +1 if X < 2 else X\n",
        "\n",
        "        elif action_label == \"STAY\":\n",
        "          Y_new, X_new = Y, X \n",
        "        \n",
        "        self.current_state = (Y_new, X_new) # store the new grid location\n",
        "\n",
        "        obs = self.current_state # agent always directly observes the grid location they're in \n",
        "\n",
        "        return obs\n",
        "\n",
        "    def reset(self):\n",
        "        self.current_state = self.init_state\n",
        "        print(f'Re-initialized location to {self.init_state}')\n",
        "        obs = self.current_state\n",
        "        print(f'..and sampled observation {obs}')\n",
        "\n",
        "        return obs"
      ],
      "metadata": {
        "id": "85zbr8IDRHT-"
      },
      "execution_count": 3,
      "outputs": []
    },
    {
      "cell_type": "code",
      "source": [
        "def plot_likelihood(matrix, xlabels = list(range(9)), ylabels = list(range(9)), title_str = \"Likelihood distribution (A)\"):\n",
        "    \"\"\"\n",
        "    Plots a 2-D likelihood matrix as a heatmap\n",
        "    \"\"\"\n",
        "\n",
        "    if not np.isclose(matrix.sum(axis=0), 1.0).all():\n",
        "      raise ValueError(\"Distribution not column-normalized! Please normalize (ensure matrix.sum(axis=0) == 1.0 for all columns)\")\n",
        "    \n",
        "    fig = plt.figure(figsize = (6,6))\n",
        "    ax = sns.heatmap(matrix, xticklabels = xlabels, yticklabels = ylabels, cmap = 'gray', cbar = False, vmin = 0.0, vmax = 1.0)\n",
        "    plt.title(title_str)\n",
        "    plt.show()\n",
        "\n",
        "def plot_grid(grid_locations, num_x = 3, num_y = 3 ):\n",
        "    \"\"\"\n",
        "    Plots the spatial coordinates of GridWorld as a heatmap, with each (X, Y) coordinate \n",
        "    labeled with its linear index (its `state id`)\n",
        "    \"\"\"\n",
        "\n",
        "    grid_heatmap = np.zeros((num_x, num_y))\n",
        "    for linear_idx, location in enumerate(grid_locations):\n",
        "      y, x = location\n",
        "      grid_heatmap[y, x] = linear_idx\n",
        "    sns.set(font_scale=1.5)\n",
        "    sns.heatmap(grid_heatmap, annot=True, cbar = False, fmt='.0f', cmap='crest')\n",
        "\n",
        "def plot_point_on_grid(state_vector, grid_locations):\n",
        "    \"\"\"\n",
        "    Plots the current location of the agent on the grid world\n",
        "    \"\"\"\n",
        "    state_index = np.where(state_vector)[0][0]\n",
        "    y, x = grid_locations[state_index]\n",
        "    grid_heatmap = np.zeros((3,3))\n",
        "    grid_heatmap[y,x] = 1.0\n",
        "    sns.heatmap(grid_heatmap, cbar = False, fmt='.0f')\n",
        "\n",
        "def plot_beliefs(belief_dist, title_str=\"\"):\n",
        "    \"\"\"\n",
        "    Plot a categorical distribution or belief distribution, stored in the 1-D numpy vector `belief_dist`\n",
        "    \"\"\"\n",
        "\n",
        "    if not np.isclose(belief_dist.sum(), 1.0):\n",
        "      raise ValueError(\"Distribution not normalized! Please normalize\")\n",
        "\n",
        "    plt.grid(zorder=0)\n",
        "    plt.bar(range(belief_dist.shape[0]), belief_dist, color='r', zorder=3)\n",
        "    plt.xticks(range(belief_dist.shape[0]))\n",
        "    plt.title(title_str)\n",
        "    plt.show() \n",
        "\n",
        "def create_B_matrix():\n",
        "  B = np.zeros( (len(grid_locations), len(grid_locations), len(actions)) )\n",
        "\n",
        "  for action_id, action_label in enumerate(actions):\n",
        "\n",
        "    for curr_state, grid_location in enumerate(grid_locations):\n",
        "\n",
        "      y, x = grid_location\n",
        "\n",
        "      if action_label == \"UP\":\n",
        "        next_y = y - 1 if y > 0 else y \n",
        "        next_x = x\n",
        "      elif action_label == \"DOWN\":\n",
        "        next_y = y + 1 if y < 2 else y \n",
        "        next_x = x\n",
        "      elif action_label == \"LEFT\":\n",
        "        next_x = x - 1 if x > 0 else x \n",
        "        next_y = y\n",
        "      elif action_label == \"RIGHT\":\n",
        "        next_x = x + 1 if x < 2 else x \n",
        "        next_y = y\n",
        "      elif action_label == \"STAY\":\n",
        "        next_x = x\n",
        "        next_y = y\n",
        "      new_location = (next_y, next_x)\n",
        "      next_state = grid_locations.index(new_location)\n",
        "      B[next_state, curr_state, action_id] = 1.0\n",
        "  return B \n",
        "\n",
        "\n",
        "def infer_states(observation_index, A, prior):\n",
        "\n",
        "  \"\"\" Implement inference here -- NOTE: prior is already passed in, so you don't need to do anything with the B matrix. \"\"\"\n",
        "  \"\"\" This function has already been given P(s_t). The conditional expectation that creates \"today's prior\", using \"yesterday's posterior\", will happen *before calling* this function\"\"\"\n",
        "  \n",
        "  log_likelihood = log_stable(A[observation_index,:])\n",
        "\n",
        "  log_prior = log_stable(prior)\n",
        "\n",
        "  qs = softmax(log_likelihood + log_prior)\n",
        "   \n",
        "  return qs  \n",
        "\n",
        "\n",
        "\"\"\" define component functions for computing expected free energy \"\"\"\n",
        "\n",
        "def get_expected_states(B, qs_current, action):\n",
        "  \"\"\" Compute the expected states one step into the future, given a particular action \"\"\"\n",
        "  qs_u = B[:,:,action].dot(qs_current)\n",
        "\n",
        "  return qs_u\n",
        "\n",
        "def get_expected_observations(A, qs_u):\n",
        "  \"\"\" Compute the expected observations one step into the future, given a particular action \"\"\"\n",
        "\n",
        "  qo_u = A.dot(qs_u)\n",
        "\n",
        "  return qo_u\n",
        "\n",
        "def entropy(A):\n",
        "  \"\"\" Compute the entropy of a set of conditional distributions, i.e. one entropy value per column \"\"\"\n",
        "\n",
        "  H_A = - (A * log_stable(A)).sum(axis=0)\n",
        "\n",
        "  return H_A\n",
        "\n",
        "def kl_divergence(qo_u, C):\n",
        "  \"\"\" Compute the Kullback-Leibler divergence between two 1-D categorical distributions\"\"\"\n",
        "  \n",
        "  return (log_stable(qo_u) - log_stable(C)).dot(qo_u) \n",
        "\n",
        "\n",
        "\n",
        "def calculate_G(A, B, C, qs_current, actions):\n",
        "\n",
        "  G = np.zeros(len(actions)) # vector of expected free energies, one per action\n",
        "\n",
        "  H_A = entropy(A) # entropy of the observation model, P(o|s)\n",
        "\n",
        "  for action_i in range(len(actions)):\n",
        "    \n",
        "    qs_u = get_expected_states(B, qs_current, action_i) # expected states, under the action we're currently looping over\n",
        "    qo_u = get_expected_observations(A, qs_u)           # expected observations, under the action we're currently looping over\n",
        "\n",
        "    pred_uncertainty = H_A.dot(qs_u) # predicted uncertainty, i.e. expected entropy of the A matrix\n",
        "    pred_div = kl_divergence(qo_u, C) # predicted divergence\n",
        "\n",
        "    G[action_i] = pred_uncertainty + pred_div # sum them together to get expected free energy\n",
        "  \n",
        "  return G   \n",
        "\n",
        "\n",
        "\n",
        "\"\"\" Write a function that, when called, runs the entire active inference loop for a desired number of timesteps\"\"\"\n",
        "\n",
        "def run_active_inference_loop(A, B, C, D, actions, env, T = 5):\n",
        "\n",
        "  \"\"\" Initialize the prior that will be passed in during inference to be the same as `D` \"\"\"\n",
        "  prior = D.copy() # initial prior should be the D vector\n",
        "\n",
        "  \"\"\" Initialize the observation that will be passed in during inference - hint use env.reset()\"\"\"\n",
        "  obs = env.reset() # initialize the `obs` variable to be the first observation you sample from the environment, before `step`-ing it.\n",
        "\n",
        "  for t in range(T):\n",
        "\n",
        "    print(f'Time {t}: Agent observes itself in location: {obs}')\n",
        "\n",
        "    # convert the observation into the agent's observational state space (in terms of 0 through 8)\n",
        "    obs_idx = grid_locations.index(obs)\n",
        "\n",
        "    # perform inference over hidden states\n",
        "    qs_current = infer_states(obs_idx, A, prior)\n",
        "\n",
        "    plot_beliefs(qs_current, title_str = f\"Beliefs about location at time {t}\")\n",
        "\n",
        "    # calculate expected free energy of actions\n",
        "    G = calculate_G(A, B, C, qs_current, actions)\n",
        "    \n",
        "    # compute action posterior\n",
        "    Q_u = softmax(-G)\n",
        "\n",
        "    # sample action from probability distribution over actions\n",
        "    chosen_action = utils.sample(Q_u)\n",
        "\n",
        "    # compute prior for next timestep of inference\n",
        "    prior = B[:,:,chosen_action].dot(qs_current) \n",
        "\n",
        "    # update generative process\n",
        "    action_label = actions[chosen_action]\n",
        "\n",
        "    obs = env.step(action_label)\n",
        "  \n",
        "  return qs_current\n",
        "\n",
        "\n",
        "def calculate_G_policies(A, B, C, qs_current, policies):\n",
        "\n",
        "  G = np.zeros(len(policies)) # initialize the vector of expected free energies, one per policy\n",
        "  H_A = entropy(A)            # can calculate the entropy of the A matrix beforehand, since it'll be the same for all policies\n",
        "\n",
        "  for policy_id, policy in enumerate(policies): # loop over policies - policy_id will be the linear index of the policy (0, 1, 2, ...) and `policy` will be a column vector where `policy[t,0]` indexes the action entailed by that policy at time `t`\n",
        "\n",
        "    t_horizon = policy.shape[0] # temporal depth of the policy\n",
        "\n",
        "    G_pi = 0.0 # initialize expected free energy for this policy\n",
        "\n",
        "    for t in range(t_horizon): # loop over temporal depth of the policy\n",
        "\n",
        "      action = policy[t,0] # action entailed by this particular policy, at time `t`\n",
        "\n",
        "      # get the past predictive posterior - which is either your current posterior at the current time (not the policy time) or the predictive posterior entailed by this policy, one timstep ago (in policy time)\n",
        "      if t == 0:\n",
        "        qs_prev = qs_current \n",
        "      else:\n",
        "        qs_prev = qs_pi_t\n",
        "        \n",
        "      qs_pi_t = get_expected_states(B, qs_prev, action) # expected states, under the action entailed by the policy at this particular time\n",
        "      qo_pi_t = get_expected_observations(A, qs_pi_t)   # expected observations, under the action entailed by the policy at this particular time\n",
        "\n",
        "      kld = kl_divergence(qo_pi_t, C) # Kullback-Leibler divergence between expected observations and the prior preferences C\n",
        "\n",
        "      G_pi_t = H_A.dot(qs_pi_t) + kld # predicted uncertainty + predicted divergence, for this policy & timepoint\n",
        "\n",
        "      G_pi += G_pi_t # accumulate the expected free energy for each timepoint into the overall EFE for the policy\n",
        "\n",
        "    G[policy_id] += G_pi\n",
        "  \n",
        "  return G\n",
        "\n",
        "\n",
        "def compute_prob_actions(actions, policies, Q_pi):\n",
        "  P_u = np.zeros(len(actions)) # initialize the vector of probabilities of each action\n",
        "\n",
        "  for policy_id, policy in enumerate(policies):\n",
        "    P_u[int(policy[0,0])] += Q_pi[policy_id] # get the marginal probability for the given action, entailed by this policy at the first timestep\n",
        "  \n",
        "  P_u = utils.norm_dist(P_u) # normalize the action probabilities\n",
        "  \n",
        "  return P_u\n",
        "\n",
        "\n",
        "def active_inference_with_planning(A, B, C, D, n_actions, env, policy_len = 2, T = 5):\n",
        "\n",
        "  \"\"\" Initialize prior, first observation, and policies \"\"\"\n",
        "  \n",
        "  prior = D # initial prior should be the D vector\n",
        "\n",
        "  obs = env.reset() # get the initial observation\n",
        "\n",
        "  policies = construct_policies([n_states], [n_actions], policy_len = policy_len)\n",
        "\n",
        "  for t in range(T):\n",
        "\n",
        "    print(f'Time {t}: Agent observes itself in location: {obs}')\n",
        "\n",
        "    # convert the observation into the agent's observational state space (in terms of 0 through 8)\n",
        "    obs_idx = grid_locations.index(obs)\n",
        "\n",
        "    # perform inference over hidden states\n",
        "    qs_current = infer_states(obs_idx, A, prior)\n",
        "    plot_beliefs(qs_current, title_str = f\"Beliefs about location at time {t}\")\n",
        "\n",
        "    # calculate expected free energy of actions\n",
        "    G = calculate_G_policies(A, B, C, qs_current, policies)\n",
        "\n",
        "    # to get action posterior, we marginalize P(u|pi) with the probabilities of each policy Q(pi), given by \\sigma(-G)\n",
        "    Q_pi = softmax(-G)\n",
        "\n",
        "    # compute the probability of each action\n",
        "    P_u = compute_prob_actions(actions, policies, Q_pi)\n",
        "\n",
        "    # sample action from probability distribution over actions\n",
        "    chosen_action = utils.sample(P_u)\n",
        "\n",
        "    # compute prior for next timestep of inference\n",
        "    prior = B[:,:,chosen_action].dot(qs_current) \n",
        "\n",
        "    # step the generative process and get new observation\n",
        "    action_label = actions[chosen_action]\n",
        "    obs = env.step(action_label)\n",
        "  \n",
        "  return qs_current\n",
        "\n",
        "\n",
        "\n",
        "\n",
        "\n"
      ],
      "metadata": {
        "id": "gDTXP5AdCfeh"
      },
      "execution_count": 4,
      "outputs": []
    },
    {
      "cell_type": "markdown",
      "source": [
        "Complete Recipe for Active Inference\n",
        "\n",
        "Sample an observation  ot  from the current state of the environment\n",
        "\n",
        "Perform inference over hidden states i.e., optimize  q(s)  through free-energy minimization\n",
        "\n",
        "Calculate expected free energy of actions  G \n",
        "\n",
        "Sample action from the posterior over actions  Q(ut)∼σ(−G) .\n",
        "\n",
        "Use the sampled action  at  to perturb the generative process and go back to step 1.\n",
        "\n",
        "Let's start by creating a class that will represent the Grid World environment (i.e., generative process) that our active inference agent will navigate within. Note that we don't need to specify the generative process in terms of A and B matrices - the generative process will be as arbitrary and complex as the environment is. The A and B matrices are just the agent's representation of the world and the task, which in this case happen to capture the Markovian, noiseless dynamics of the world perfectly."
      ],
      "metadata": {
        "id": "kRBp1NG6QsWr"
      }
    },
    {
      "cell_type": "markdown",
      "source": [
        "1. The A matrix or  P(o∣s) .\n",
        "The generative model's \"prior beliefs\" about how hidden states relate to observations"
      ],
      "metadata": {
        "id": "F7RrVAKkGNpT"
      }
    },
    {
      "cell_type": "code",
      "source": [
        "\"\"\" Create  the grid locations in the form of a list of (Y, X) tuples -- HINT: use itertools \"\"\"\n",
        "grid_locations = list(itertools.product(range(3), repeat = 2))\n",
        "print(grid_locations)"
      ],
      "metadata": {
        "colab": {
          "base_uri": "https://localhost:8080/"
        },
        "id": "9eFkJad_UQPG",
        "outputId": "89a6f551-059a-4abf-9520-fab3add57393"
      },
      "execution_count": 6,
      "outputs": [
        {
          "output_type": "stream",
          "name": "stdout",
          "text": [
            "[(0, 0), (0, 1), (0, 2), (1, 0), (1, 1), (1, 2), (2, 0), (2, 1), (2, 2)]\n"
          ]
        }
      ]
    },
    {
      "cell_type": "code",
      "source": [
        "actions = [\"UP\", \"DOWN\", \"LEFT\", \"RIGHT\", \"STAY\"]"
      ],
      "metadata": {
        "id": "g1Sllw3QUtJW"
      },
      "execution_count": 9,
      "outputs": []
    },
    {
      "cell_type": "code",
      "source": [
        "\"\"\" Create variables for the storing the dimensionalities of the hidden states and the observations \"\"\"\n",
        "\n",
        "n_states = len(grid_locations)\n",
        "n_observations = len(grid_locations)\n",
        "\n",
        "print(f'Dimensionality of hidden states: {n_states}')\n",
        "print(f'Dimensionality of observations: {n_observations}')"
      ],
      "metadata": {
        "id": "TzCpU68rVsNi"
      },
      "execution_count": null,
      "outputs": []
    },
    {
      "cell_type": "code",
      "source": [
        "\n",
        "\n",
        "\n",
        "\"\"\" Create the A matrix  \"\"\"\n",
        "\n",
        "A = np.zeros( (n_states, n_observations) )\n",
        "\n",
        "\n",
        "\"\"\" Create an umambiguous or 'noise-less' mapping between hidden states and observations \"\"\"\n",
        "\n",
        "np.fill_diagonal(A, 1.0)\n",
        "\n",
        "# alternative:\n",
        "# A = np.eye(n_observations, n_states)\n",
        "\n",
        "plot_likelihood(A, title_str = \"A matrix or $P(o|s)$\")"
      ],
      "metadata": {
        "colab": {
          "base_uri": "https://localhost:8080/",
          "height": 428
        },
        "id": "4KnyJCjyGMCk",
        "outputId": "3b92ad2f-d9ff-450d-cbc5-fa8cdf204127"
      },
      "execution_count": 7,
      "outputs": [
        {
          "output_type": "stream",
          "name": "stdout",
          "text": [
            "Dimensionality of hidden states: 9\n",
            "Dimensionality of observations: 9\n"
          ]
        },
        {
          "output_type": "display_data",
          "data": {
            "text/plain": [
              "<Figure size 432x432 with 1 Axes>"
            ],
            "image/png": "[encoded data removed]"
          },
          "metadata": {
            "needs_background": "light"
          }
        }
      ]
    },
    {
      "cell_type": "code",
      "source": [
        "A_noisy = A.copy()\n",
        "\n",
        "# this line says: the probability of seeing yourself in location 0, given you're in location 0, is 1/3, AKA P(o == 0 | s == 0) = 0.3333....\n",
        "A_noisy[0,0] = 1 / 3.0 # corresponds to location (0,0)\n",
        "\n",
        "# this line says: the probability of seeing yourself in location 1, given you're in location 0, is 1/3, AKA P(o == 1 | s == 0) = 0.3333....\n",
        "A_noisy[1,0] = 1 / 3.0 # corresponds to one step to the right from (0, 1)\n",
        "\n",
        "# this line says: the probability of seeing yourself in location 3, given you're in location 0, is 1/3, AKA P(o == 3 | s == 0) = 0.3333....\n",
        "A_noisy[3,0] = 1 / 3.0 # corresponds to one step down from (1, 0)\n",
        "\n",
        "plot_likelihood(A_noisy, title_str = 'modified A matrix where location (0,0) is \"blurry\"')"
      ],
      "metadata": {
        "id": "HaFUTp4lHJ2g"
      },
      "execution_count": null,
      "outputs": []
    },
    {
      "cell_type": "code",
      "source": [
        "\"\"\" Let's make ake one grid location \"ambiguous\" in the sense that it could be easily confused with neighbouring locations \"\"\"\n",
        "my_A_noisy = A_noisy.copy()\n",
        "\n",
        "# locations 3 and 7 are the nearest neighbours to location 6\n",
        "my_A_noisy[3,6] = 1.0 / 3.0\n",
        "my_A_noisy[6,6] = 1.0 / 3.0\n",
        "my_A_noisy[7,6] = 1.0 / 3.0\n",
        "\n",
        "# Alternatively: you could have the probability spread among locations 3, 4, 6, and 7. This is basically saying, that whole lower-left corner of grid-world is blurry, if you're in location 6\n",
        "# Remember to make sure the A matrix is column normalized. So if you do it this way, with the probabilities spread among 4 perceived locations, then you'll have to make sure the probabilities sum to 1.0\n",
        "# my_A_noisy[3,6] = 1.0 / 4.0\n",
        "# my_A_noisy[4,6] = 1.0 / 4.0\n",
        "# my_A_noisy[6,6] = 1.0 / 4.0\n",
        "# my_A_noisy[7,6] = 1.0 / 4.0\n",
        "\n",
        "plot_likelihood(my_A_noisy, title_str = \"Noisy A matrix now with TWO ambiguous locations\")"
      ],
      "metadata": {
        "id": "QSd8S3V5HZZB"
      },
      "execution_count": null,
      "outputs": []
    },
    {
      "cell_type": "code",
      "source": [
        "\"\"\" Create an ambiguous A matrix \"\"\"\n",
        "A_partially_ambiguous = softmax(A)\n",
        "print(A_partially_ambiguous.round(3))"
      ],
      "metadata": {
        "id": "QPd9YA9BOwhk"
      },
      "execution_count": null,
      "outputs": []
    },
    {
      "cell_type": "markdown",
      "source": [
        "2. The B matrix or  P(st∣st−1,ut−1) .\n",
        "The generative model's \"prior beliefs\" about (controllable) transitions between hidden states over time. Namely, how do hidden states at time  t  result from hidden states at some previous time  t−1 . These transition dynamics are further conditioned on some past action  ut ."
      ],
      "metadata": {
        "id": "dgvfBwdWHmod"
      }
    },
    {
      "cell_type": "code",
      "source": [
        "actions = [\"UP\", \"DOWN\", \"LEFT\", \"RIGHT\", \"STAY\"]\n",
        "\n",
        "B = create_B_matrix()"
      ],
      "metadata": {
        "id": "7PWJ24KQHnnS"
      },
      "execution_count": null,
      "outputs": []
    },
    {
      "cell_type": "code",
      "source": [
        "\"\"\" Define a starting location\"\"\" \n",
        "starting_location = (1,0)\n",
        "\n",
        "\"\"\"get the linear index of the state\"\"\"\n",
        "state_index = grid_locations.index(starting_location)\n",
        "\n",
        "\"\"\"  and create a state vector out of it \"\"\"\n",
        "starting_state = utils.onehot(state_index, n_states)\n",
        "\n",
        "plot_point_on_grid(starting_state, grid_locations)\n",
        "\n",
        "plot_beliefs(starting_state, \"Categorical distribution over the starting state\")\n",
        "\n",
        "\n",
        "\n",
        "\"\"\" Generate the next state vector, given the starting state and the B matrix\"\"\"\n",
        "right_action_idx = actions.index(\"RIGHT\") \n",
        "next_state = B[:,:, right_action_idx].dot(starting_state) # input the indices to the B matrix\n",
        "\n",
        "\"\"\" Plot the next state, after taking the action \"\"\"\n",
        "plot_point_on_grid(next_state, grid_locations)\n",
        "\n",
        "\n",
        "\n",
        "\"\"\" Generate the next state vector, given the previous state and the B matrix\"\"\"\n",
        "prev_state = next_state.copy()\n",
        "down_action_index = actions.index(\"DOWN\")\n",
        "next_state = B[:,:,down_action_index].dot(prev_state)\n",
        "\n",
        "\"\"\"  Plot the new state vector, after making the movement \"\"\"\n",
        "plot_point_on_grid(next_state, grid_locations)"
      ],
      "metadata": {
        "id": "P35yvWINIFMv"
      },
      "execution_count": null,
      "outputs": []
    },
    {
      "cell_type": "markdown",
      "source": [
        "3. The prior over observations: the  C  vector or  P~(o) \n",
        "The (biased) generative model's prior preference for particular observations, encoded in terms of probabilities."
      ],
      "metadata": {
        "id": "4nBjv6poIu8y"
      }
    },
    {
      "cell_type": "code",
      "source": [
        "\"\"\" Create an empty vector to store the preferences over observations \"\"\"\n",
        "C = np.zeros(n_observations)\n",
        "\n",
        "\"\"\" Choose an observation index to be the 'desired' rewarding index, and fill out the C vector accordingly \"\"\"\n",
        "desired_location = (2,2) # choose a desired location\n",
        "desired_location_index = grid_locations.index(desired_location) # get the linear index of the grid location, in terms of 0 through 8\n",
        "\n",
        "C[desired_location_index] = 1.0 # set the preference for that location to be 100%, i.e. 1.0\n",
        "\n",
        "\"\"\"  Let's look at the prior preference distribution \"\"\"\n",
        "plot_beliefs(C, title_str = \"Preferences over observations\")"
      ],
      "metadata": {
        "id": "1_zVPGPyIwKE"
      },
      "execution_count": null,
      "outputs": []
    },
    {
      "cell_type": "markdown",
      "source": [
        "3. The prior over hidden states: the  D  vector or  P(s) \n",
        "The generative model's prior belief over hidden states at the first timestep."
      ],
      "metadata": {
        "id": "K7kLN7RpI28M"
      }
    },
    {
      "cell_type": "code",
      "source": [
        "\"\"\" Create a D vector, basically a belief that the agent has about its own starting location \"\"\"\n",
        "\n",
        "# create a one-hot / certain belief about initial state\n",
        "D = utils.onehot(0, n_states)\n",
        "\n",
        "# demonstrate hwo belief about initial state can also be uncertain / spread among different possible initial states\n",
        "# alternative, where you have a degenerate/noisy prior belief\n",
        "# D = utils.norm_dist(np.ones(n_states))\n",
        "\n",
        "\"\"\" Let's look at the prior over hidden states \"\"\"\n",
        "plot_beliefs(D, title_str = \"Prior beliefs over states\")"
      ],
      "metadata": {
        "id": "PIDP5NSZI4Ay"
      },
      "execution_count": null,
      "outputs": []
    },
    {
      "cell_type": "markdown",
      "source": [
        "Hidden state inference\n",
        "Hidden state inference proceeds by finding the setting of the optimal variational posterior  q(st)  that minimizes the variational free energy. For the simple POMDP generative model and posterior we're considering here, this update reduces to a remarkably simple update rule, that is essentially proportional to Bayes` rule:\n",
        "\n",
        "q(st)=σ(lnA[o,:]+lnB[:,:,u]⋅q(st−1))\n",
        "\n",
        "YESTERDAYS POSTERIOR IS TODAYS PRIOR !!!!!\n",
        "\n",
        "The second term (B is in the prior)"
      ],
      "metadata": {
        "id": "QdCkzFdNJTSi"
      }
    },
    {
      "cell_type": "code",
      "source": [
        "qs_past = utils.onehot(4, n_states) # agent believes they were at location 4 -- i.e. (1,1) one timestep ago\n",
        "\n",
        "last_action = \"UP\" # the agent knew it moved \"UP\" one timestep ago\n",
        "action_id = actions.index(last_action) # get the action index for moving \"UP\""
      ],
      "metadata": {
        "id": "dE8qO5mHJUPW"
      },
      "execution_count": null,
      "outputs": []
    },
    {
      "cell_type": "markdown",
      "source": [
        "Get \"today's prior\" using the past posterior and the past action, i.e. calculate:\n",
        "\n",
        "P(st)=Eq(st−1)[P(st|st−1,ut−1)] \n",
        "\n",
        "and choose an observation that is consistent with the new location"
      ],
      "metadata": {
        "id": "l0L5xE-FOIh9"
      }
    },
    {
      "cell_type": "code",
      "source": [
        "prior = B[:,:,action_id].dot(qs_past)\n",
        "\n",
        "observation_index = 1\n",
        "\n",
        "qs_new = infer_states(observation_index, A, prior)\n",
        "plot_beliefs(qs_new, title_str = \"Beliefs about hidden states\")"
      ],
      "metadata": {
        "id": "pxTqWxjkOOL4"
      },
      "execution_count": null,
      "outputs": []
    },
    {
      "cell_type": "code",
      "source": [
        "\"\"\" with partly noisy A (oben)... and a noisy prior \"\"\"\n",
        "noisy_prior = softmax(prior) \n",
        "plot_beliefs(noisy_prior)\n",
        "\n",
        "\"\"\" Do inference with the new, partially-ambiguous A matrix and the noised-up prior \"\"\"\n",
        "qs_new = infer_states(observation_index, A_partially_ambiguous, noisy_prior)\n",
        "plot_beliefs(qs_new)"
      ],
      "metadata": {
        "id": "mf9gl6MbO60L"
      },
      "execution_count": null,
      "outputs": []
    },
    {
      "cell_type": "markdown",
      "source": [
        "Now let's use formula for the posterior over actions, i.e.\n",
        "\n",
        "Q(ut)=σ(−G) \n",
        "\n",
        "to compute the probabilities of each action"
      ],
      "metadata": {
        "id": "8uwuqyO3QSr3"
      }
    },
    {
      "cell_type": "code",
      "source": [
        "Q_u = softmax(-G)"
      ],
      "metadata": {
        "id": "vVP4-HudQTwP"
      },
      "execution_count": null,
      "outputs": []
    },
    {
      "cell_type": "code",
      "source": [
        "\"\"\" Fill out the components of the generative model \"\"\"\n",
        "\n",
        "A = np.eye(n_observations, n_states)\n",
        "\n",
        "B = create_B_matrix()\n",
        "\n",
        "C = utils.onehot(grid_locations.index( (2, 2) ), n_observations) # make the agent prefer location (2,2) (lower right corner of grid world)\n",
        "\n",
        "D = utils.onehot(grid_locations.index( (1,2) ), n_states) # start the agent with the prior belief that it starts in location (1,2) \n",
        "\n",
        "actions = [\"UP\", \"DOWN\", \"LEFT\", \"RIGHT\", \"STAY\"]\n",
        "\n",
        "env = GridWorldEnv(starting_state = (1,2))"
      ],
      "metadata": {
        "colab": {
          "base_uri": "https://localhost:8080/"
        },
        "id": "FNWsA3I3RSVn",
        "outputId": "a3a36f8f-c616-4119-8358-77abcd88324f"
      },
      "execution_count": 10,
      "outputs": [
        {
          "output_type": "stream",
          "name": "stdout",
          "text": [
            "Starting state is (1, 2)\n"
          ]
        }
      ]
    },
    {
      "cell_type": "code",
      "source": [
        "\"\"\" Run the function we just wrote, for T = 5 timesteps \"\"\"\n",
        "qs = run_active_inference_loop(A, B, C, D, actions, env, T = 5)     "
      ],
      "metadata": {
        "id": "Nm9tm2grRTf1"
      },
      "execution_count": null,
      "outputs": []
    },
    {
      "cell_type": "markdown",
      "source": [
        "Because the expected free energy of each action is only evaluated for one timestep in the future, the agent has no way of knowing which action to initially take, to get closer to its final \"goal\" of (2,2). This is because the expected divergence term for all actions  DKL(Q(o|u)∥C)  is identical for all considered actions (which are just 1-step moves away from starting from (0,0) ). This speaks to the importance of planning, or multiple timestep policies.\n",
        "\n",
        "Now let's do active inference with multi-step policies\n",
        "\n",
        "We can rely on a useful function from pymdp's control module called construct_policies() to automatically generate a list of all the policies we want to entertain, for a given number of control states (actions) and a desired temporal horizon."
      ],
      "metadata": {
        "id": "TVL0dcn6R2Z1"
      }
    },
    {
      "cell_type": "code",
      "source": [
        "policy_len = 4\n",
        "n_actions = len(actions)\n",
        "\n",
        "# we have to wrap `n_states` and `n_actions` in a list for reasons that will become clear in Part II\n",
        "all_policies = construct_policies([n_states], [n_actions], policy_len = policy_len)\n",
        "\n",
        "print(f'Total number of policies for {n_actions} possible actions and a planning horizon of {policy_len}: {len(all_policies)}')"
      ],
      "metadata": {
        "colab": {
          "base_uri": "https://localhost:8080/"
        },
        "id": "tbjqsowDR30W",
        "outputId": "f3a27602-518a-4b65-da73-6b77844a150f"
      },
      "execution_count": 11,
      "outputs": [
        {
          "output_type": "stream",
          "name": "stdout",
          "text": [
            "Total number of policies for 5 possible actions and a planning horizon of 4: 625\n"
          ]
        }
      ]
    },
    {
      "cell_type": "code",
      "source": [
        "D = utils.onehot(grid_locations.index((0,0)), n_states) # let's have the agent believe it starts in location (0,0) (upper left corner) \n",
        "env = GridWorldEnv(starting_state = (0,0))\n",
        "qs_final = active_inference_with_planning(A, B, C, D, n_actions, env, policy_len = 3, T = 10)"
      ],
      "metadata": {
        "colab": {
          "base_uri": "https://localhost:8080/",
          "height": 1000
        },
        "id": "o31yy1BuSskk",
        "outputId": "1a3f3545-10c8-4fd5-f331-4d82d42ceafd"
      },
      "execution_count": 12,
      "outputs": [
        {
          "output_type": "stream",
          "name": "stdout",
          "text": [
            "Starting state is (0, 0)\n",
            "Re-initialized location to (0, 0)\n",
            "..and sampled observation (0, 0)\n",
            "Time 0: Agent observes itself in location: (0, 0)\n"
          ]
        },
        {
          "output_type": "display_data",
          "data": {
            "text/plain": [
              "<Figure size 432x288 with 1 Axes>"
            ],
            "image/png": "[encoded data removed]"
          },
          "metadata": {
            "needs_background": "light"
          }
        },
        {
          "output_type": "stream",
          "name": "stdout",
          "text": [
            "Time 1: Agent observes itself in location: (0, 0)\n"
          ]
        },
        {
          "output_type": "display_data",
          "data": {
            "text/plain": [
              "<Figure size 432x288 with 1 Axes>"
            ],
            "image/png": "[encoded data removed]"
          },
          "metadata": {
            "needs_background": "light"
          }
        },
        {
          "output_type": "stream",
          "name": "stdout",
          "text": [
            "Time 2: Agent observes itself in location: (0, 0)\n"
          ]
        },
        {
          "output_type": "display_data",
          "data": {
            "text/plain": [
              "<Figure size 432x288 with 1 Axes>"
            ],
            "image/png": "[encoded data removed]"
          },
          "metadata": {
            "needs_background": "light"
          }
        },
        {
          "output_type": "stream",
          "name": "stdout",
          "text": [
            "Time 3: Agent observes itself in location: (0, 0)\n"
          ]
        },
        {
          "output_type": "display_data",
          "data": {
            "text/plain": [
              "<Figure size 432x288 with 1 Axes>"
            ],
            "image/png": "[encoded data removed]"
          },
          "metadata": {
            "needs_background": "light"
          }
        },
        {
          "output_type": "stream",
          "name": "stdout",
          "text": [
            "Time 4: Agent observes itself in location: (1, 0)\n"
          ]
        },
        {
          "output_type": "display_data",
          "data": {
            "text/plain": [
              "<Figure size 432x288 with 1 Axes>"
            ],
            "image/png": "[encoded data removed]"
          },
          "metadata": {
            "needs_background": "light"
          }
        },
        {
          "output_type": "stream",
          "name": "stdout",
          "text": [
            "Time 5: Agent observes itself in location: (1, 1)\n"
          ]
        },
        {
          "output_type": "display_data",
          "data": {
            "text/plain": [
              "<Figure size 432x288 with 1 Axes>"
            ],
            "image/png": "[encoded data removed]"
          },
          "metadata": {
            "needs_background": "light"
          }
        },
        {
          "output_type": "stream",
          "name": "stdout",
          "text": [
            "Time 6: Agent observes itself in location: (2, 1)\n"
          ]
        },
        {
          "output_type": "display_data",
          "data": {
            "text/plain": [
              "<Figure size 432x288 with 1 Axes>"
            ],
            "image/png": "[encoded data removed]"
          },
          "metadata": {
            "needs_background": "light"
          }
        },
        {
          "output_type": "stream",
          "name": "stdout",
          "text": [
            "Time 7: Agent observes itself in location: (2, 2)\n"
          ]
        },
        {
          "output_type": "display_data",
          "data": {
            "text/plain": [
              "<Figure size 432x288 with 1 Axes>"
            ],
            "image/png": "[encoded data removed]"
          },
          "metadata": {
            "needs_background": "light"
          }
        },
        {
          "output_type": "stream",
          "name": "stdout",
          "text": [
            "Time 8: Agent observes itself in location: (2, 2)\n"
          ]
        },
        {
          "output_type": "display_data",
          "data": {
            "text/plain": [
              "<Figure size 432x288 with 1 Axes>"
            ],
            "image/png": "[encoded data removed]"
          },
          "metadata": {
            "needs_background": "light"
          }
        },
        {
          "output_type": "stream",
          "name": "stdout",
          "text": [
            "Time 9: Agent observes itself in location: (2, 2)\n"
          ]
        },
        {
          "output_type": "display_data",
          "data": {
            "text/plain": [
              "<Figure size 432x288 with 1 Axes>"
            ],
            "image/png": "[encoded data removed]"
          },
          "metadata": {
            "needs_background": "light"
          }
        }
      ]
    }
  ]
}